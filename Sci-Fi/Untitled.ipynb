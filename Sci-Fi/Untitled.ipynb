{
 "cells": [
  {
   "cell_type": "code",
   "execution_count": 4,
   "metadata": {},
   "outputs": [
    {
     "name": "stdout",
     "output_type": "stream",
     "text": [
      "Speak anything\n",
      " You said : hi hello\n"
     ]
    }
   ],
   "source": [
    "import speech_recognition as sr\n",
    "\n",
    "r = sr.Recognizer()\n",
    "\n",
    "with sr.Microphone() as source:\n",
    "    print(\"Speak anything\")\n",
    "    audio = r.listen(source)\n",
    "    \n",
    "    try:\n",
    "        text = r.recognize_google(audio)\n",
    "        print(\" You said : {}\".format(text))\n",
    "    except:\n",
    "        print(\"sorry could not recognize your voice\")\n",
    "    "
   ]
  },
  {
   "cell_type": "code",
   "execution_count": null,
   "metadata": {},
   "outputs": [],
   "source": [
    "r = sr.Recognizer()\n",
    "\n",
    "    with sr.Microphone() as source:\n",
    "        print(\"Speak anything\")\n",
    "        statement = r.listen(source)\n",
    "\n",
    "        try:\n",
    "            text = r.recognize_google(statement, language = \"en-in\")\n",
    "            print(\" You said : {}\".format(text))\n",
    "        except:\n",
    "            print(\"sorry could not recognize your voice\")\n",
    "            speak(\"sorry could not recognize your voice\")\n",
    "        return statement\n"
   ]
  },
  {
   "cell_type": "code",
   "execution_count": null,
   "metadata": {},
   "outputs": [],
   "source": [
    "r = sr.Recognizer()\n",
    "    with sr.Microphone() as source:\n",
    "        print(\"I Am Listening\")\n",
    "        audio = r.listen(source)\n",
    "        \n",
    "        try:\n",
    "            statement = r.recognize_google(audio, language = \"en-in\")\n",
    "            print(\"user said:{}\\n\".format(statement))\n",
    "        \n",
    "        except:\n",
    "            speak(\"say that again\")\n",
    "            return \"None\"\n",
    "        #return statement"
   ]
  },
  {
   "cell_type": "raw",
   "metadata": {},
   "source": []
  }
 ],
 "metadata": {
  "kernelspec": {
   "display_name": "Python 3",
   "language": "python",
   "name": "python3"
  },
  "language_info": {
   "codemirror_mode": {
    "name": "ipython",
    "version": 3
   },
   "file_extension": ".py",
   "mimetype": "text/x-python",
   "name": "python",
   "nbconvert_exporter": "python",
   "pygments_lexer": "ipython3",
   "version": "3.8.5"
  }
 },
 "nbformat": 4,
 "nbformat_minor": 4
}
